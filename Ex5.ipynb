{
  "nbformat": 4,
  "nbformat_minor": 0,
  "metadata": {
    "colab": {
      "provenance": [],
      "include_colab_link": true
    },
    "kernelspec": {
      "name": "python3",
      "display_name": "Python 3"
    },
    "language_info": {
      "name": "python"
    }
  },
  "cells": [
    {
      "cell_type": "markdown",
      "metadata": {
        "id": "view-in-github",
        "colab_type": "text"
      },
      "source": [
        "<a href=\"https://colab.research.google.com/github/Theresah123/Tutorials/blob/main/Ex5.ipynb\" target=\"_parent\"><img src=\"https://colab.research.google.com/assets/colab-badge.svg\" alt=\"Open In Colab\"/></a>"
      ]
    },
    {
      "cell_type": "markdown",
      "source": [
        "Modules & Packages\n",
        "\n",
        "    Create a module named math_ops.py with functions:\n",
        "\n",
        "    add(a, b)\n",
        "\n",
        "    subtract(a, b)\n",
        "\n",
        "    multiply(a, b)\n",
        "\n",
        "    divide(a, b)\n",
        "\n",
        "    Then import and use these functions in another script.\n",
        "\n",
        "    Create a package named shapes with:\n",
        "\n",
        "    Module circle.py → function area(r)\n",
        "\n",
        "    Module rectangle.py → function area(l, w)\n",
        "\n",
        "    Then import and test both."
      ],
      "metadata": {
        "id": "13MtHFowo5p1"
      }
    },
    {
      "cell_type": "code",
      "source": [],
      "metadata": {
        "id": "9Mm_xU_ruPby"
      },
      "execution_count": null,
      "outputs": []
    },
    {
      "cell_type": "markdown",
      "source": [
        "NumPy\n",
        "\n",
        "    Create a 3×3 NumPy array with values from 1 to 9.\n",
        "\n",
        "    Find:\n",
        "\n",
        "    Sum of all elements\n",
        "\n",
        "    Mean\n",
        "\n",
        "    Maximum value\n",
        "\n",
        "    Reshape it into a 1×9 array.\n",
        "\n",
        "    Create two arrays and perform:\n",
        "\n",
        "    Addition\n",
        "\n",
        "    Multiplication (element-wise)\n",
        "\n",
        "    Extract all elements greater than 5 using boolean indexing.\n",
        "\n",
        "    Create a 2D array and calculate:\n",
        "\n",
        "    The sum along each row (axis=1)\n",
        "\n",
        "    The sum along each column (axis=0)\n",
        "\n",
        "    Use NumPy to generate:\n",
        "\n",
        "    An array of 10 random integers\n",
        "\n",
        "    Sort them in ascending order\n",
        "\n",
        "    Create an array from 0 to 20 with step size 2, then reshape it into 2 rows."
      ],
      "metadata": {
        "id": "s31v39tdpLxC"
      }
    },
    {
      "cell_type": "code",
      "execution_count": 1,
      "metadata": {
        "id": "E0-zMIHooqVn"
      },
      "outputs": [],
      "source": [
        "import numpy"
      ]
    },
    {
      "cell_type": "code",
      "source": [
        "arr = numpy.array([[1, 2, 3],\n",
        "       [4, 5, 6],\n",
        "       [7, 8, 9]])"
      ],
      "metadata": {
        "id": "WThrzLfIPOsL"
      },
      "execution_count": 7,
      "outputs": []
    },
    {
      "cell_type": "code",
      "source": [
        "arr.sum()"
      ],
      "metadata": {
        "colab": {
          "base_uri": "https://localhost:8080/"
        },
        "id": "_PpRtaKvPCSp",
        "outputId": "da7f3309-ced8-4e46-bc42-7729abad76cf"
      },
      "execution_count": 8,
      "outputs": [
        {
          "output_type": "execute_result",
          "data": {
            "text/plain": [
              "np.int64(45)"
            ]
          },
          "metadata": {},
          "execution_count": 8
        }
      ]
    },
    {
      "cell_type": "code",
      "source": [
        "arr.mean()"
      ],
      "metadata": {
        "colab": {
          "base_uri": "https://localhost:8080/"
        },
        "id": "qBqoazNlP8l1",
        "outputId": "8e75a9a8-ac67-4ef7-f038-b87e9db8b5ed"
      },
      "execution_count": 9,
      "outputs": [
        {
          "output_type": "execute_result",
          "data": {
            "text/plain": [
              "np.float64(5.0)"
            ]
          },
          "metadata": {},
          "execution_count": 9
        }
      ]
    },
    {
      "cell_type": "code",
      "source": [
        "arr.max()"
      ],
      "metadata": {
        "colab": {
          "base_uri": "https://localhost:8080/"
        },
        "id": "RqVN2vffQEpA",
        "outputId": "9d1d05a1-af3e-4073-8e06-c1ed4e12ec60"
      },
      "execution_count": 10,
      "outputs": [
        {
          "output_type": "execute_result",
          "data": {
            "text/plain": [
              "np.int64(9)"
            ]
          },
          "metadata": {},
          "execution_count": 10
        }
      ]
    },
    {
      "cell_type": "code",
      "source": [
        "arr.reshape(1, 9)"
      ],
      "metadata": {
        "colab": {
          "base_uri": "https://localhost:8080/"
        },
        "id": "K9qCVZ-QQN7V",
        "outputId": "d46cb339-bea9-4e10-a769-5aa7003b732a"
      },
      "execution_count": 11,
      "outputs": [
        {
          "output_type": "execute_result",
          "data": {
            "text/plain": [
              "array([[1, 2, 3, 4, 5, 6, 7, 8, 9]])"
            ]
          },
          "metadata": {},
          "execution_count": 11
        }
      ]
    },
    {
      "cell_type": "code",
      "source": [
        "arr1 = numpy.array([1, 2, 5])\n",
        "arr2 = numpy.array([4, 3, 6])"
      ],
      "metadata": {
        "id": "atM1e795QsWE"
      },
      "execution_count": 12,
      "outputs": []
    },
    {
      "cell_type": "code",
      "source": [
        "add = arr1 + arr2\n",
        "add"
      ],
      "metadata": {
        "colab": {
          "base_uri": "https://localhost:8080/"
        },
        "id": "omvB6DsqQdV9",
        "outputId": "bf789f59-b4a9-4a26-eb9d-663448fcca3f"
      },
      "execution_count": 13,
      "outputs": [
        {
          "output_type": "execute_result",
          "data": {
            "text/plain": [
              "array([ 5,  5, 11])"
            ]
          },
          "metadata": {},
          "execution_count": 13
        }
      ]
    },
    {
      "cell_type": "code",
      "source": [
        "mult = arr2 *arr1\n",
        "mult"
      ],
      "metadata": {
        "colab": {
          "base_uri": "https://localhost:8080/"
        },
        "id": "sHcUNQQ4RFqa",
        "outputId": "16042b5a-4669-4e10-efae-862da172a15d"
      },
      "execution_count": 15,
      "outputs": [
        {
          "output_type": "execute_result",
          "data": {
            "text/plain": [
              "array([ 4,  6, 30])"
            ]
          },
          "metadata": {},
          "execution_count": 15
        }
      ]
    },
    {
      "cell_type": "code",
      "source": [
        "arr = numpy.array([2, 3, 4, 5, 6, 8, 9, 7, 10])"
      ],
      "metadata": {
        "id": "gYEIetvbR0CU"
      },
      "execution_count": 18,
      "outputs": []
    },
    {
      "cell_type": "code",
      "source": [
        "elements_greater_than_5 = arr[arr > 5]\n",
        "elements_greater_than_5"
      ],
      "metadata": {
        "colab": {
          "base_uri": "https://localhost:8080/"
        },
        "id": "kOC-r-9uUqY0",
        "outputId": "e9609c57-7fad-4070-fdfb-ff6e2f6a26d2"
      },
      "execution_count": 17,
      "outputs": [
        {
          "output_type": "execute_result",
          "data": {
            "text/plain": [
              "array([ 6,  8,  9,  7, 10])"
            ]
          },
          "metadata": {},
          "execution_count": 17
        }
      ]
    },
    {
      "cell_type": "code",
      "source": [
        "arr_2D = numpy.array([[1, 2, 3],\n",
        "                      [4, 5, 6],\n",
        "                      [8, 7,9]])"
      ],
      "metadata": {
        "id": "m_1vQFxjVZSD"
      },
      "execution_count": 19,
      "outputs": []
    },
    {
      "cell_type": "code",
      "source": [
        "sum_rows = numpy.sum(arr_2D, axis=1)\n",
        "sum_rows"
      ],
      "metadata": {
        "colab": {
          "base_uri": "https://localhost:8080/"
        },
        "id": "HSJIUYlqWqRv",
        "outputId": "de78e397-71a2-4fa0-db82-0de145de2f41"
      },
      "execution_count": 21,
      "outputs": [
        {
          "output_type": "execute_result",
          "data": {
            "text/plain": [
              "array([ 6, 15, 24])"
            ]
          },
          "metadata": {},
          "execution_count": 21
        }
      ]
    },
    {
      "cell_type": "code",
      "source": [
        "sum_columns = numpy.sum(arr_2D, axis=0)\n",
        "sum_columns"
      ],
      "metadata": {
        "colab": {
          "base_uri": "https://localhost:8080/"
        },
        "id": "EYRzQhGPYS74",
        "outputId": "fea6ac38-50ec-4b2d-ba30-88fd05a711de"
      },
      "execution_count": 22,
      "outputs": [
        {
          "output_type": "execute_result",
          "data": {
            "text/plain": [
              "array([13, 14, 18])"
            ]
          },
          "metadata": {},
          "execution_count": 22
        }
      ]
    },
    {
      "cell_type": "code",
      "source": [
        "random_integers = numpy.random.randint(0, 100, size=10)\n",
        "random_integers"
      ],
      "metadata": {
        "colab": {
          "base_uri": "https://localhost:8080/"
        },
        "id": "GNA7Lsi6ZbLF",
        "outputId": "35535c8c-d60d-4c48-d92a-91c1da51c621"
      },
      "execution_count": 25,
      "outputs": [
        {
          "output_type": "execute_result",
          "data": {
            "text/plain": [
              "array([40, 45, 66, 28, 89, 54,  6, 74, 70,  7])"
            ]
          },
          "metadata": {},
          "execution_count": 25
        }
      ]
    },
    {
      "cell_type": "code",
      "source": [
        "sorted_int = numpy.sort(random_integers)\n",
        "sorted_int"
      ],
      "metadata": {
        "colab": {
          "base_uri": "https://localhost:8080/"
        },
        "id": "VJ16W4yRZvW5",
        "outputId": "0088c1ec-a822-4029-ad29-13254cf5eab9"
      },
      "execution_count": 26,
      "outputs": [
        {
          "output_type": "execute_result",
          "data": {
            "text/plain": [
              "array([ 6,  7, 28, 40, 45, 54, 66, 70, 74, 89])"
            ]
          },
          "metadata": {},
          "execution_count": 26
        }
      ]
    },
    {
      "cell_type": "code",
      "source": [
        "arr = numpy.arange(2, 21, 2)\n",
        "arr"
      ],
      "metadata": {
        "colab": {
          "base_uri": "https://localhost:8080/"
        },
        "id": "N3VZWE8PbKCG",
        "outputId": "57259081-f8ce-4261-a3ab-75313eafa2f6"
      },
      "execution_count": 59,
      "outputs": [
        {
          "output_type": "execute_result",
          "data": {
            "text/plain": [
              "array([ 2,  4,  6,  8, 10, 12, 14, 16, 18, 20])"
            ]
          },
          "metadata": {},
          "execution_count": 59
        }
      ]
    },
    {
      "cell_type": "code",
      "source": [
        "reshaped = arr.reshape(2, -1)\n",
        "reshaped"
      ],
      "metadata": {
        "colab": {
          "base_uri": "https://localhost:8080/"
        },
        "id": "XfI4jmkEb1qe",
        "outputId": "d3ee4c57-f819-4554-8f48-d8689895b0c2"
      },
      "execution_count": 60,
      "outputs": [
        {
          "output_type": "execute_result",
          "data": {
            "text/plain": [
              "array([[ 2,  4,  6,  8, 10],\n",
              "       [12, 14, 16, 18, 20]])"
            ]
          },
          "metadata": {},
          "execution_count": 60
        }
      ]
    },
    {
      "cell_type": "markdown",
      "source": [
        "Write a program to find the largest of three numbers."
      ],
      "metadata": {
        "id": "3rf6LHU5peVj"
      }
    },
    {
      "cell_type": "code",
      "source": [
        "num1 = int(input(\"Enter the first number: \"))\n",
        "num2 = int(input(\"Enter the second number: \"))\n",
        "num3 = int(input(\"Enter the third number: \"))"
      ],
      "metadata": {
        "id": "8L2CXy3kpou-",
        "colab": {
          "base_uri": "https://localhost:8080/"
        },
        "outputId": "fec63112-fea6-4a15-d795-7829280e775d"
      },
      "execution_count": 35,
      "outputs": [
        {
          "name": "stdout",
          "output_type": "stream",
          "text": [
            "Enter the first number: 10\n",
            "Enter the second number: 40\n",
            "Enter the third number: 77\n"
          ]
        }
      ]
    },
    {
      "cell_type": "code",
      "source": [
        "if num3 > num2 and num3 > num1:\n",
        "    print(\"The largest number is: \", num3)"
      ],
      "metadata": {
        "colab": {
          "base_uri": "https://localhost:8080/"
        },
        "id": "6vW6Dj1KgFW3",
        "outputId": "f5542a08-f1d7-4907-b035-0664f0ba2fe6"
      },
      "execution_count": 38,
      "outputs": [
        {
          "output_type": "stream",
          "name": "stdout",
          "text": [
            "The largest number is:  77\n"
          ]
        }
      ]
    },
    {
      "cell_type": "markdown",
      "source": [
        "    Write a program to print numbers from 1 to 10 using a for loop.\n",
        "\n",
        "    Write a program to calculate the sum of the first 5 natural numbers.\n",
        "\n",
        "    Print a multiplication table for a given number.\n",
        "\n",
        "    Write a program that prints all even numbers between 1 and 20."
      ],
      "metadata": {
        "id": "g8yRl1nrppt8"
      }
    },
    {
      "cell_type": "code",
      "source": [
        "for i in range(1, 11):\n",
        "    print(i)"
      ],
      "metadata": {
        "id": "DrPQlZ7Rqo45",
        "colab": {
          "base_uri": "https://localhost:8080/"
        },
        "outputId": "0d49af4b-21c2-4919-cc2e-08f32e8b584e"
      },
      "execution_count": 39,
      "outputs": [
        {
          "output_type": "stream",
          "name": "stdout",
          "text": [
            "1\n",
            "2\n",
            "3\n",
            "4\n",
            "5\n",
            "6\n",
            "7\n",
            "8\n",
            "9\n",
            "10\n"
          ]
        }
      ]
    },
    {
      "cell_type": "code",
      "source": [
        "total = 0\n",
        "for i in range(1, 6):\n",
        "    total += i\n",
        "    print(total)"
      ],
      "metadata": {
        "colab": {
          "base_uri": "https://localhost:8080/"
        },
        "id": "z_DJeNclhF_B",
        "outputId": "7a815caf-398a-41c0-d362-89d6b43ee7ac"
      },
      "execution_count": 41,
      "outputs": [
        {
          "output_type": "stream",
          "name": "stdout",
          "text": [
            "1\n",
            "3\n",
            "6\n",
            "10\n",
            "15\n"
          ]
        }
      ]
    },
    {
      "cell_type": "code",
      "source": [
        "num = int(input(\"Enter a number: \"))\n",
        "for g in range(1, 11):\n",
        "  print(f\"{num} * {g} = {num * g}\")"
      ],
      "metadata": {
        "colab": {
          "base_uri": "https://localhost:8080/"
        },
        "id": "5YGcSq6fg7ar",
        "outputId": "93a0c6ac-baae-400f-af9d-71c96f35e03a"
      },
      "execution_count": 43,
      "outputs": [
        {
          "output_type": "stream",
          "name": "stdout",
          "text": [
            "Enter a number: 2\n",
            "2 * 1 = 2\n",
            "2 * 2 = 4\n",
            "2 * 3 = 6\n",
            "2 * 4 = 8\n",
            "2 * 5 = 10\n",
            "2 * 6 = 12\n",
            "2 * 7 = 14\n",
            "2 * 8 = 16\n",
            "2 * 9 = 18\n",
            "2 * 10 = 20\n"
          ]
        }
      ]
    },
    {
      "cell_type": "code",
      "source": [
        "for f in range(1, 21):\n",
        "    if f % 2 == 0:\n",
        "        print(f)"
      ],
      "metadata": {
        "colab": {
          "base_uri": "https://localhost:8080/"
        },
        "id": "KIGRoQdMi_6-",
        "outputId": "53aaa33a-f242-44e7-bef1-b549017061e7"
      },
      "execution_count": 44,
      "outputs": [
        {
          "output_type": "stream",
          "name": "stdout",
          "text": [
            "2\n",
            "4\n",
            "6\n",
            "8\n",
            "10\n",
            "12\n",
            "14\n",
            "16\n",
            "18\n",
            "20\n"
          ]
        }
      ]
    },
    {
      "cell_type": "code",
      "source": [],
      "metadata": {
        "id": "K20hbW5zjO3m"
      },
      "execution_count": null,
      "outputs": []
    }
  ]
}